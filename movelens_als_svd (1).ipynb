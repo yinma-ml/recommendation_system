{
 "cells": [
  {
   "cell_type": "code",
   "execution_count": 9,
   "metadata": {},
   "outputs": [],
   "source": [
    "from surprise import Dataset\n",
    "from surprise import SVD, SVDpp, BaselineOnly\n",
    "from surprise import Reader\n",
    "from surprise import accuracy \n",
    "from surprise.model_selection import KFold, split, cross_validate\n",
    "import pandas as pd"
   ]
  },
  {
   "cell_type": "code",
   "execution_count": 10,
   "metadata": {},
   "outputs": [],
   "source": [
    "# read data\n",
    "reader = Reader(line_format='user item rating timestamp',sep=',',skip_lines=1)\n",
    "data = Dataset.load_from_file('ratings.csv',reader=reader)\n",
    "#train_set =data.build_full_trainset()\n",
    "train_s,test_s = split.train_test_split(data, train_size=0.8)\n"
   ]
  },
  {
   "cell_type": "code",
   "execution_count": 11,
   "metadata": {},
   "outputs": [],
   "source": [
    "# test with different algo\n",
    "# biasSVD\n",
    "algo1 = SVD()\n",
    "# funkSVD\n",
    "algo2 = SVD(biased = False)\n",
    "# SVD++\n",
    "algo3 = SVDpp()\n",
    "\n",
    "\n",
    "# ALS\n",
    "algo4 = BaselineOnly()  #start with baseline model: simple, save time\n",
    "\n",
    "bsl_options = {'method': 'als','n_epochs': 5,'reg_u': 12,'reg_i': 5}\n",
    "# SGD optimizer\n",
    "algo5 = BaselineOnly(bsl_options=bsl_options)\n",
    "\n",
    "algo6 = NormalPredictor()\n",
    "\n",
    "algo7 = KNNBasic(k=30, min_k=5, sim_options={'user_based': True}, verbose=True)\n",
    "\n",
    "# r^ui=bui=μ+bu+bi\n",
    "# If user u is unknown, then the bias bu is assumed to be zero. The same applies for item i with bi.\n"
   ]
  },
  {
   "cell_type": "code",
   "execution_count": 12,
   "metadata": {},
   "outputs": [
    {
     "name": "stdout",
     "output_type": "stream",
     "text": [
      "biasSVD results:\n",
      "RMSE: 0.8341\n",
      "funkSVD results:\n",
      "RMSE: 0.8556\n",
      "SVD++ results:\n",
      "BaselineOnly results:\n",
      "Estimating biases using als...\n",
      "RMSE: 0.8640\n",
      "BaselineOnly ALS results:\n",
      "Estimating biases using als...\n",
      "RMSE: 0.8621\n",
      "NormalPredictor results:\n",
      "RMSE: 1.4333\n",
      "KNNBasic results:\n",
      "Computing the msd similarity matrix...\n",
      "Done computing similarity matrix.\n",
      "RMSE: 0.8965\n"
     ]
    },
    {
     "data": {
      "text/plain": [
       "0.8964641169058791"
      ]
     },
     "execution_count": 12,
     "metadata": {},
     "output_type": "execute_result"
    }
   ],
   "source": [
    "print('biasSVD results:')\n",
    "algo1.fit(train_s)\n",
    "pre = algo1.test(test_s)\n",
    "accuracy.rmse(pre,verbose=True)\n",
    "print('funkSVD results:')\n",
    "algo2.fit(train_s)\n",
    "pre = algo2.test(test_s)\n",
    "accuracy.rmse(pre,verbose=True)\n",
    "print('SVD++ results:')\n",
    "algo3.fit(train_s)\n",
    "pre = algo3.test(test_s)\n",
    "#accuracy.rmse(pre,verbose=True)\n",
    "\n",
    "print('BaselineOnly results:')\n",
    "algo4.fit(train_s)\n",
    "pre = algo4.test(test_s)\n",
    "accuracy.rmse(pre,verbose=True)\n",
    "print('BaselineOnly ALS results:')\n",
    "algo5.fit(train_s)\n",
    "pre = algo5.test(test_s)\n",
    "accuracy.rmse(pre,verbose=True)\n",
    "print('NormalPredictor results:')\n",
    "algo6.fit(train_s)\n",
    "pre = algo6.test(test_s)\n",
    "accuracy.rmse(pre,verbose=True)\n",
    "print('KNNBasic results:')\n",
    "algo7.fit(train_s)\n",
    "pre = algo7.test(test_s)\n",
    "accuracy.rmse(pre,verbose=True)"
   ]
  },
  {
   "cell_type": "code",
   "execution_count": 20,
   "metadata": {},
   "outputs": [
    {
     "name": "stdout",
     "output_type": "stream",
     "text": [
      "RMSE: 0.8314\n",
      "RMSE: 0.8335\n",
      "RMSE: 0.8315\n",
      "RMSE: 0.8330\n",
      "RMSE: 0.8363\n",
      "user: 178        item: 379        r_ui = 4.00   est = 3.52   {'was_impossible': False}\n",
      "user: 178        item: 379        r_ui = 4.00   est = 3.33   {'was_impossible': False}\n",
      "user: 178        item: 379        r_ui = 4.00   est = 3.68   {'was_impossible': False}\n",
      "user: 178        item: 379        r_ui = 4.00   est = 3.30   {'was_impossible': False}\n",
      "user: 178        item: 379        r_ui = 4.00   est = 3.28   {'was_impossible': False}\n",
      "user: 178        item: 379        r_ui = 4.00   est = 2.93   {'was_impossible': False}\n",
      "user: 178        item: 379        r_ui = 4.00   est = 3.22   {'actual_k': 30, 'was_impossible': False}\n"
     ]
    }
   ],
   "source": [
    "#define Kfold\n",
    "kf =KFold(n_splits=5)\n",
    "for trainset,testset in kf.split(data):\n",
    "    algo1.fit(trainset)\n",
    "    predictions = algo1.test(testset)\n",
    "    accuracy.rmse(predictions,verbose=True)\n",
    "uid=str(178)\n",
    "iid=str(379)\n",
    "pred1 = algo1.predict(uid,iid,r_ui=4,verbose=True)\n",
    "pred2 = algo2.predict(uid,iid,r_ui=4,verbose=True)\n",
    "pred3 = algo3.predict(uid,iid,r_ui=4,verbose=True)\n",
    "pred4 = algo4.predict(uid,iid,r_ui=4,verbose=True)\n",
    "pred5 = algo5.predict(uid,iid,r_ui=4,verbose=True)\n",
    "pred6 = algo6.predict(uid,iid,r_ui=4,verbose=True)\n",
    "pred7 = algo7.predict(uid,iid,r_ui=4,verbose=True)"
   ]
  }
 ],
 "metadata": {
  "kernelspec": {
   "display_name": "Python 3",
   "language": "python",
   "name": "python3"
  },
  "language_info": {
   "codemirror_mode": {
    "name": "ipython",
    "version": 3
   },
   "file_extension": ".py",
   "mimetype": "text/x-python",
   "name": "python",
   "nbconvert_exporter": "python",
   "pygments_lexer": "ipython3",
   "version": "3.7.6"
  }
 },
 "nbformat": 4,
 "nbformat_minor": 4
}
